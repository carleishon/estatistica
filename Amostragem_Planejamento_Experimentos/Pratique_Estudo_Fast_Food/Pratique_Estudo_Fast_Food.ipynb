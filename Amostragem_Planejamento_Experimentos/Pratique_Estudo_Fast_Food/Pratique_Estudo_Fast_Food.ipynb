{
 "cells": [
  {
   "cell_type": "markdown",
   "metadata": {},
   "source": [
    "Objetivo:\n",
    " \n",
    "Entender o hábito de consumo de fast-food entre os jovens adultos da cidade de São Paulo. Considerado como jovens adultos, pessoas com a faixa etária entre 20 a 34 anos.\n",
    "\n",
    "____________________________________________________________________________________________________________________________________\n",
    "\n",
    "\n",
    "Tipo de método amostral utilizado: \n",
    "\n",
    "Por Conglomerado.\n",
    "\n",
    "____________________________________________________________________________________________________________________________________\n",
    "\n",
    "Justificativa do uso deste método:\n",
    "\n",
    "1º Menor custo logístico: nesta amostragem a população foi divida em conglomerados (regiões da cidade > subprefeituras > bairros), então foi selecionado aleatoriamente alguns desses conglomerados para este estudo. O que reduz o custo de descolocamento e coleta de dados, por centralizar em áreas específicas.\n",
    "\n",
    "2º Facilidade de implementar: por ser realizado em áreas específicas, facilita a alocação de pesquisadores, sendo mais eficiente e gerenciável.\n",
    "\n",
    "3º Representatividade: conglomerados foram bem escolhidos, sendo diversos e representando a variação existente na população (bairros ricos, pobres, urbanos e suburbanos).\n",
    "\n",
    "____________________________________________________________________________________________________________________________________"
   ]
  },
  {
   "cell_type": "markdown",
   "metadata": {},
   "source": [
    "Coleta do tamanho da população, com base nas estimativas de população de 2022 do IBGE. \n",
    "\n",
    "Fonte: IBGE - Censo Demográfico \n",
    "Link: https://sidra.ibge.gov.br/tabela/9514#/n1/all/n6/3550308/v/allxp/p/all/c2/6794/c287/6653,49109,60040,60041,93070,93084,93085,93087,93088,93089,93091,93092,93093,93094,93095,93096,93097,93098,100362/c286/113635/l/v,p+c2+c287,t+c286/resultado\n"
   ]
  },
  {
   "cell_type": "markdown",
   "metadata": {},
   "source": [
    "Tamanho da amostra:\n",
    "\n",
    "População: jovens adultos, consideradas faixa etária entre 20 a 34 anos, da cidade de São Paulo.\n",
    "\n",
    "Margem de Erro: Entre 3% a 5%\n",
    "\n",
    "Nível de Confiança: 95%\n",
    "\n",
    "Proporção de variabilidade: 50% "
   ]
  },
  {
   "cell_type": "code",
   "execution_count": 2,
   "metadata": {},
   "outputs": [],
   "source": [
    "import pandas as pd\n",
    "import requests\n",
    "import io\n",
    "\n",
    "# URL com arquivo em XLSX, do IBGE\n",
    "url = \"https://sidra.ibge.gov.br/geratabela?format=xlsx&name=tabela9514.xlsx&terr=N&rank=-&query=t/9514/n1/all/n6/3550308/v/allxp/p/all/c2/6794/c287/6653,49108,49109,60040,60041,93070,93084,93085,93086,93087,93088,93089,93090,93091,93092,93093,93094,93095,93096,93097,93098,100362/c286/113635/l/v,p%2Bc2%2Bc287,t%2Bc286\"\n",
    "\n",
    "# Requisição\n",
    "response = requests.get(url)\n",
    "\n",
    "# Verificação de sucesso\n",
    "if response.status_code == 200:\n",
    "    # Ler arquivo\n",
    "    xlsx_content = response.content\n",
    "    # Criar DataFrame\n",
    "    df = pd.read_excel(io.BytesIO(xlsx_content), header=None)  # Ignorar o cabeçalho existente\n",
    "\n",
    "else:\n",
    "    print(\"Falha ao acessar o arquivo XLSX.\")\n"
   ]
  },
  {
   "cell_type": "code",
   "execution_count": 4,
   "metadata": {},
   "outputs": [
    {
     "name": "stdout",
     "output_type": "stream",
     "text": [
      "        Categoria Numero_Habitantes  % sobre total\n",
      "0  jovens_adultos           1733707          15.14\n",
      "1          outros           9718292          84.86\n",
      "2           Total          11451999         100.00\n"
     ]
    }
   ],
   "source": [
    "# Selecionar as linhas 4 e 6\n",
    "df_sp = df.iloc[[5, 7]]\n",
    "\n",
    "# Manter as duas primeiras colunas e transpor as demais\n",
    "df_sp = df_sp.T\n",
    "\n",
    "# renomeia colunas\n",
    "rotulo = ['Faixa Etaria', 'Numero_Habitantes']\n",
    "\n",
    "# filtra linhas\n",
    "df_sp = df_sp.iloc[3:]\n",
    "\n",
    "# aplica rótulos\n",
    "df_sp.columns = rotulo\n",
    "\n",
    "# função agrupa idade em categoria\n",
    "def categorizar_idade(value):\n",
    "    if value == '20 a 24 anos' or value == '30 a 34 anos':\n",
    "        return 'jovens_adultos'\n",
    "    else:\n",
    "        return 'outros'\n",
    "\n",
    "df_sp['Categoria'] = df_sp['Faixa Etaria'].apply(lambda x: categorizar_idade(x))\n",
    "\n",
    "# agrupa por categoria e numero de habitantes\n",
    "df_agrupado = df_sp.groupby('Categoria').agg({'Numero_Habitantes': 'sum'}).reset_index()\n",
    "\n",
    "# adiciona percentagem \n",
    "total_habitantes = df_agrupado['Numero_Habitantes'].sum()\n",
    "df_agrupado['% sobre total'] = ((df_agrupado['Numero_Habitantes'] / total_habitantes) * 100).apply(lambda x: round(x, 2))\n",
    "\n",
    "\n",
    "# Adicionar uma nova linha com o total de número de habitantes\n",
    "total_row = {'Categoria': 'Total', 'Numero_Habitantes': total_habitantes, '% sobre total': 100}\n",
    "df_agrupado = pd.concat([df_agrupado, pd.DataFrame(total_row, index=[len(df_agrupado)])], ignore_index=True)\n",
    "\n",
    "print(df_agrupado)\n",
    "\n"
   ]
  },
  {
   "cell_type": "markdown",
   "metadata": {},
   "source": [
    "Tamanho da amostra:\n",
    "\n",
    "População (N): 1,7 milhões de jovens adultos.\n",
    "\n",
    "Margem de Erro (E): 5%\n",
    "\n",
    "Nível de Confiança: 95% (Z= 1,96)\n",
    "\n",
    "Proporção (p): 50% \n",
    "Complemento da proporção (q): 50%"
   ]
  },
  {
   "cell_type": "code",
   "execution_count": 5,
   "metadata": {},
   "outputs": [
    {
     "name": "stdout",
     "output_type": "stream",
     "text": [
      "Parâmetros usados para definição do tamanho da amostra \n",
      "\n",
      "População: 1.733.707 jovens adultos\n",
      "Nível de Confiança: 95%\n",
      "Margem de Erro 5.0% \n",
      "\n",
      "Tamanho da Amostra: 385\n"
     ]
    }
   ],
   "source": [
    "import math\n",
    "import locale\n",
    "\n",
    "# define localidade para Brasil\n",
    "locale.setlocale(locale.LC_ALL, 'pt_BR.UTF-8')\n",
    "\n",
    "number_jovens_adultos = df_agrupado[df_agrupado['Categoria']=='jovens_adultos']['Numero_Habitantes'].iloc[0]\n",
    "\n",
    "N = int(number_jovens_adultos)      # população de jovens adultos\n",
    "Z = 1.96                            # nível de confiança\n",
    "E = 0.05                            # margem de erro de 5%\n",
    "p = 0.5                             # proporção\n",
    "q = 1 - p                           # complemento da proporção\n",
    "\n",
    "# tamanho da amostra\n",
    "n = (Z**2 * p * q) / (E**2)\n",
    "\n",
    "# arredondar para cima\n",
    "n = math.ceil(n)\n",
    "\n",
    "print('Parâmetros usados para definição do tamanho da amostra \\n')\n",
    "print(f'População: {locale.format_string(\"%d\", N, grouping=True)} jovens adultos')\n",
    "print(f'Nível de Confiança: 95%')\n",
    "print(f'Margem de Erro {E * 100}% \\n')\n",
    "print(f'Tamanho da Amostra: {n}')"
   ]
  },
  {
   "cell_type": "code",
   "execution_count": 7,
   "metadata": {},
   "outputs": [
    {
     "ename": "UnicodeDecodeError",
     "evalue": "'utf-8' codec can't decode byte 0xbd in position 11: invalid start byte",
     "output_type": "error",
     "traceback": [
      "\u001b[1;31m---------------------------------------------------------------------------\u001b[0m",
      "\u001b[1;31mUnicodeDecodeError\u001b[0m                        Traceback (most recent call last)",
      "Cell \u001b[1;32mIn [7], line 5\u001b[0m\n\u001b[0;32m      2\u001b[0m url_regioes \u001b[38;5;241m=\u001b[39m \u001b[38;5;124m\"\u001b[39m\u001b[38;5;124mhttps://raw.githubusercontent.com/carleishon/estatistica/main/Amostragem\u001b[39m\u001b[38;5;132;01m%20e\u001b[39;00m\u001b[38;5;124m%\u001b[39m\u001b[38;5;124m20Planejamento\u001b[39m\u001b[38;5;132;01m%20d\u001b[39;00m\u001b[38;5;124me\u001b[39m\u001b[38;5;132;01m%20E\u001b[39;00m\u001b[38;5;124mxperimentos/Pratique/Cidade_SP_Regioes.csv\u001b[39m\u001b[38;5;124m\"\u001b[39m\n\u001b[0;32m      4\u001b[0m \u001b[38;5;66;03m# Carregar o arquivo CSV em um DataFrame\u001b[39;00m\n\u001b[1;32m----> 5\u001b[0m df \u001b[38;5;241m=\u001b[39m \u001b[43mpd\u001b[49m\u001b[38;5;241;43m.\u001b[39;49m\u001b[43mread_csv\u001b[49m\u001b[43m(\u001b[49m\u001b[43murl\u001b[49m\u001b[43m)\u001b[49m\n\u001b[0;32m      7\u001b[0m \u001b[38;5;66;03m# Exibir as primeiras linhas do DataFrame\u001b[39;00m\n\u001b[0;32m      8\u001b[0m \u001b[38;5;28mprint\u001b[39m(df\u001b[38;5;241m.\u001b[39mhead())\n",
      "File \u001b[1;32mc:\\Python\\lib\\site-packages\\pandas\\util\\_decorators.py:211\u001b[0m, in \u001b[0;36mdeprecate_kwarg.<locals>._deprecate_kwarg.<locals>.wrapper\u001b[1;34m(*args, **kwargs)\u001b[0m\n\u001b[0;32m    209\u001b[0m     \u001b[38;5;28;01melse\u001b[39;00m:\n\u001b[0;32m    210\u001b[0m         kwargs[new_arg_name] \u001b[38;5;241m=\u001b[39m new_arg_value\n\u001b[1;32m--> 211\u001b[0m \u001b[38;5;28;01mreturn\u001b[39;00m func(\u001b[38;5;241m*\u001b[39margs, \u001b[38;5;241m*\u001b[39m\u001b[38;5;241m*\u001b[39mkwargs)\n",
      "File \u001b[1;32mc:\\Python\\lib\\site-packages\\pandas\\util\\_decorators.py:331\u001b[0m, in \u001b[0;36mdeprecate_nonkeyword_arguments.<locals>.decorate.<locals>.wrapper\u001b[1;34m(*args, **kwargs)\u001b[0m\n\u001b[0;32m    325\u001b[0m \u001b[38;5;28;01mif\u001b[39;00m \u001b[38;5;28mlen\u001b[39m(args) \u001b[38;5;241m>\u001b[39m num_allow_args:\n\u001b[0;32m    326\u001b[0m     warnings\u001b[38;5;241m.\u001b[39mwarn(\n\u001b[0;32m    327\u001b[0m         msg\u001b[38;5;241m.\u001b[39mformat(arguments\u001b[38;5;241m=\u001b[39m_format_argument_list(allow_args)),\n\u001b[0;32m    328\u001b[0m         \u001b[38;5;167;01mFutureWarning\u001b[39;00m,\n\u001b[0;32m    329\u001b[0m         stacklevel\u001b[38;5;241m=\u001b[39mfind_stack_level(),\n\u001b[0;32m    330\u001b[0m     )\n\u001b[1;32m--> 331\u001b[0m \u001b[38;5;28;01mreturn\u001b[39;00m func(\u001b[38;5;241m*\u001b[39margs, \u001b[38;5;241m*\u001b[39m\u001b[38;5;241m*\u001b[39mkwargs)\n",
      "File \u001b[1;32mc:\\Python\\lib\\site-packages\\pandas\\io\\parsers\\readers.py:950\u001b[0m, in \u001b[0;36mread_csv\u001b[1;34m(filepath_or_buffer, sep, delimiter, header, names, index_col, usecols, squeeze, prefix, mangle_dupe_cols, dtype, engine, converters, true_values, false_values, skipinitialspace, skiprows, skipfooter, nrows, na_values, keep_default_na, na_filter, verbose, skip_blank_lines, parse_dates, infer_datetime_format, keep_date_col, date_parser, dayfirst, cache_dates, iterator, chunksize, compression, thousands, decimal, lineterminator, quotechar, quoting, doublequote, escapechar, comment, encoding, encoding_errors, dialect, error_bad_lines, warn_bad_lines, on_bad_lines, delim_whitespace, low_memory, memory_map, float_precision, storage_options)\u001b[0m\n\u001b[0;32m    935\u001b[0m kwds_defaults \u001b[38;5;241m=\u001b[39m _refine_defaults_read(\n\u001b[0;32m    936\u001b[0m     dialect,\n\u001b[0;32m    937\u001b[0m     delimiter,\n\u001b[1;32m   (...)\u001b[0m\n\u001b[0;32m    946\u001b[0m     defaults\u001b[38;5;241m=\u001b[39m{\u001b[38;5;124m\"\u001b[39m\u001b[38;5;124mdelimiter\u001b[39m\u001b[38;5;124m\"\u001b[39m: \u001b[38;5;124m\"\u001b[39m\u001b[38;5;124m,\u001b[39m\u001b[38;5;124m\"\u001b[39m},\n\u001b[0;32m    947\u001b[0m )\n\u001b[0;32m    948\u001b[0m kwds\u001b[38;5;241m.\u001b[39mupdate(kwds_defaults)\n\u001b[1;32m--> 950\u001b[0m \u001b[38;5;28;01mreturn\u001b[39;00m \u001b[43m_read\u001b[49m\u001b[43m(\u001b[49m\u001b[43mfilepath_or_buffer\u001b[49m\u001b[43m,\u001b[49m\u001b[43m \u001b[49m\u001b[43mkwds\u001b[49m\u001b[43m)\u001b[49m\n",
      "File \u001b[1;32mc:\\Python\\lib\\site-packages\\pandas\\io\\parsers\\readers.py:605\u001b[0m, in \u001b[0;36m_read\u001b[1;34m(filepath_or_buffer, kwds)\u001b[0m\n\u001b[0;32m    602\u001b[0m _validate_names(kwds\u001b[38;5;241m.\u001b[39mget(\u001b[38;5;124m\"\u001b[39m\u001b[38;5;124mnames\u001b[39m\u001b[38;5;124m\"\u001b[39m, \u001b[38;5;28;01mNone\u001b[39;00m))\n\u001b[0;32m    604\u001b[0m \u001b[38;5;66;03m# Create the parser.\u001b[39;00m\n\u001b[1;32m--> 605\u001b[0m parser \u001b[38;5;241m=\u001b[39m TextFileReader(filepath_or_buffer, \u001b[38;5;241m*\u001b[39m\u001b[38;5;241m*\u001b[39mkwds)\n\u001b[0;32m    607\u001b[0m \u001b[38;5;28;01mif\u001b[39;00m chunksize \u001b[38;5;129;01mor\u001b[39;00m iterator:\n\u001b[0;32m    608\u001b[0m     \u001b[38;5;28;01mreturn\u001b[39;00m parser\n",
      "File \u001b[1;32mc:\\Python\\lib\\site-packages\\pandas\\io\\parsers\\readers.py:1442\u001b[0m, in \u001b[0;36mTextFileReader.__init__\u001b[1;34m(self, f, engine, **kwds)\u001b[0m\n\u001b[0;32m   1439\u001b[0m     \u001b[38;5;28mself\u001b[39m\u001b[38;5;241m.\u001b[39moptions[\u001b[38;5;124m\"\u001b[39m\u001b[38;5;124mhas_index_names\u001b[39m\u001b[38;5;124m\"\u001b[39m] \u001b[38;5;241m=\u001b[39m kwds[\u001b[38;5;124m\"\u001b[39m\u001b[38;5;124mhas_index_names\u001b[39m\u001b[38;5;124m\"\u001b[39m]\n\u001b[0;32m   1441\u001b[0m \u001b[38;5;28mself\u001b[39m\u001b[38;5;241m.\u001b[39mhandles: IOHandles \u001b[38;5;241m|\u001b[39m \u001b[38;5;28;01mNone\u001b[39;00m \u001b[38;5;241m=\u001b[39m \u001b[38;5;28;01mNone\u001b[39;00m\n\u001b[1;32m-> 1442\u001b[0m \u001b[38;5;28mself\u001b[39m\u001b[38;5;241m.\u001b[39m_engine \u001b[38;5;241m=\u001b[39m \u001b[38;5;28;43mself\u001b[39;49m\u001b[38;5;241;43m.\u001b[39;49m\u001b[43m_make_engine\u001b[49m\u001b[43m(\u001b[49m\u001b[43mf\u001b[49m\u001b[43m,\u001b[49m\u001b[43m \u001b[49m\u001b[38;5;28;43mself\u001b[39;49m\u001b[38;5;241;43m.\u001b[39;49m\u001b[43mengine\u001b[49m\u001b[43m)\u001b[49m\n",
      "File \u001b[1;32mc:\\Python\\lib\\site-packages\\pandas\\io\\parsers\\readers.py:1753\u001b[0m, in \u001b[0;36mTextFileReader._make_engine\u001b[1;34m(self, f, engine)\u001b[0m\n\u001b[0;32m   1750\u001b[0m     \u001b[38;5;28;01mraise\u001b[39;00m \u001b[38;5;167;01mValueError\u001b[39;00m(msg)\n\u001b[0;32m   1752\u001b[0m \u001b[38;5;28;01mtry\u001b[39;00m:\n\u001b[1;32m-> 1753\u001b[0m     \u001b[38;5;28;01mreturn\u001b[39;00m mapping[engine](f, \u001b[38;5;241m*\u001b[39m\u001b[38;5;241m*\u001b[39m\u001b[38;5;28mself\u001b[39m\u001b[38;5;241m.\u001b[39moptions)\n\u001b[0;32m   1754\u001b[0m \u001b[38;5;28;01mexcept\u001b[39;00m \u001b[38;5;167;01mException\u001b[39;00m:\n\u001b[0;32m   1755\u001b[0m     \u001b[38;5;28;01mif\u001b[39;00m \u001b[38;5;28mself\u001b[39m\u001b[38;5;241m.\u001b[39mhandles \u001b[38;5;129;01mis\u001b[39;00m \u001b[38;5;129;01mnot\u001b[39;00m \u001b[38;5;28;01mNone\u001b[39;00m:\n",
      "File \u001b[1;32mc:\\Python\\lib\\site-packages\\pandas\\io\\parsers\\c_parser_wrapper.py:79\u001b[0m, in \u001b[0;36mCParserWrapper.__init__\u001b[1;34m(self, src, **kwds)\u001b[0m\n\u001b[0;32m     76\u001b[0m     kwds\u001b[38;5;241m.\u001b[39mpop(key, \u001b[38;5;28;01mNone\u001b[39;00m)\n\u001b[0;32m     78\u001b[0m kwds[\u001b[38;5;124m\"\u001b[39m\u001b[38;5;124mdtype\u001b[39m\u001b[38;5;124m\"\u001b[39m] \u001b[38;5;241m=\u001b[39m ensure_dtype_objs(kwds\u001b[38;5;241m.\u001b[39mget(\u001b[38;5;124m\"\u001b[39m\u001b[38;5;124mdtype\u001b[39m\u001b[38;5;124m\"\u001b[39m, \u001b[38;5;28;01mNone\u001b[39;00m))\n\u001b[1;32m---> 79\u001b[0m \u001b[38;5;28mself\u001b[39m\u001b[38;5;241m.\u001b[39m_reader \u001b[38;5;241m=\u001b[39m parsers\u001b[38;5;241m.\u001b[39mTextReader(src, \u001b[38;5;241m*\u001b[39m\u001b[38;5;241m*\u001b[39mkwds)\n\u001b[0;32m     81\u001b[0m \u001b[38;5;28mself\u001b[39m\u001b[38;5;241m.\u001b[39munnamed_cols \u001b[38;5;241m=\u001b[39m \u001b[38;5;28mself\u001b[39m\u001b[38;5;241m.\u001b[39m_reader\u001b[38;5;241m.\u001b[39munnamed_cols\n\u001b[0;32m     83\u001b[0m \u001b[38;5;66;03m# error: Cannot determine type of 'names'\u001b[39;00m\n",
      "File \u001b[1;32mc:\\Python\\lib\\site-packages\\pandas\\_libs\\parsers.pyx:547\u001b[0m, in \u001b[0;36mpandas._libs.parsers.TextReader.__cinit__\u001b[1;34m()\u001b[0m\n",
      "File \u001b[1;32mc:\\Python\\lib\\site-packages\\pandas\\_libs\\parsers.pyx:636\u001b[0m, in \u001b[0;36mpandas._libs.parsers.TextReader._get_header\u001b[1;34m()\u001b[0m\n",
      "File \u001b[1;32mc:\\Python\\lib\\site-packages\\pandas\\_libs\\parsers.pyx:852\u001b[0m, in \u001b[0;36mpandas._libs.parsers.TextReader._tokenize_rows\u001b[1;34m()\u001b[0m\n",
      "File \u001b[1;32mc:\\Python\\lib\\site-packages\\pandas\\_libs\\parsers.pyx:1965\u001b[0m, in \u001b[0;36mpandas._libs.parsers.raise_parser_error\u001b[1;34m()\u001b[0m\n",
      "\u001b[1;31mUnicodeDecodeError\u001b[0m: 'utf-8' codec can't decode byte 0xbd in position 11: invalid start byte"
     ]
    }
   ],
   "source": [
    "# URL do arquivo CSV\n",
    "url_regioes = \"https://raw.githubusercontent.com/carleishon/estatistica/main/Amostragem%20e%20Planejamento%20de%20Experimentos/Pratique/Cidade_SP_Regioes.csv\"\n",
    "\n",
    "# Carregar o arquivo CSV em um DataFrame\n",
    "df = pd.read_csv(url)\n",
    "\n",
    "# Exibir as primeiras linhas do DataFrame\n",
    "print(df.head())\n"
   ]
  }
 ],
 "metadata": {
  "kernelspec": {
   "display_name": "base",
   "language": "python",
   "name": "python3"
  },
  "language_info": {
   "codemirror_mode": {
    "name": "ipython",
    "version": 3
   },
   "file_extension": ".py",
   "mimetype": "text/x-python",
   "name": "python",
   "nbconvert_exporter": "python",
   "pygments_lexer": "ipython3",
   "version": "3.10.7"
  },
  "orig_nbformat": 4
 },
 "nbformat": 4,
 "nbformat_minor": 2
}
