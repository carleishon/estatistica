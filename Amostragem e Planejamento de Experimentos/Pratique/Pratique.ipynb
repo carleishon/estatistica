{
 "cells": [
  {
   "cell_type": "markdown",
   "metadata": {},
   "source": [
    "Objetivo:\n",
    " \n",
    "Entender o hábito de consumo de fast-food entre os jovens adultos da cidade de São Paulo. Considerado como jovens adultos, pessoas com a faixa etária entre 20 a 34 anos.\n",
    "\n",
    "____________________________________________________________________________________________________________________________________\n",
    "\n",
    "\n",
    "Tipo de método amostral utilizado: \n",
    "\n",
    "Por Conglomerado.\n",
    "\n",
    "____________________________________________________________________________________________________________________________________\n",
    "\n",
    "Justificativa do uso deste método:\n",
    "\n",
    "1º Menor custo logístico: nesta amostragem a população foi divida em conglomerados (regiões da cidade > subprefeituras > bairros), então foi selecionado aleatoriamente alguns desses conglomerados para este estudo. O que reduz o custo de descolocamento e coleta de dados, por centralizar em áreas específicas.\n",
    "\n",
    "2º Facilidade de implementar: por ser realizado em áreas específicas, facilita a alocação de pesquisadores, sendo mais eficiente e gerenciável.\n",
    "\n",
    "3º Representatividade: conglomerados foram bem escolhidos, sendo diversos e representando a variação existente na população (bairros ricos, pobres, urbanos e suburbanos).\n",
    "\n",
    "____________________________________________________________________________________________________________________________________"
   ]
  },
  {
   "cell_type": "markdown",
   "metadata": {},
   "source": [
    "Coleta do tamanho da população, com base nas estimativas de população de 2022 do IBGE. \n",
    "\n",
    "Fonte: IBGE - Censo Demográfico \n",
    "Link: https://sidra.ibge.gov.br/tabela/9514#/n1/all/n6/3550308/v/allxp/p/all/c2/6794/c287/6653,49109,60040,60041,93070,93084,93085,93087,93088,93089,93091,93092,93093,93094,93095,93096,93097,93098,100362/c286/113635/l/v,p+c2+c287,t+c286/resultado\n"
   ]
  },
  {
   "cell_type": "markdown",
   "metadata": {},
   "source": [
    "Tamanho da amostra:\n",
    "\n",
    "População: jovens adultos, consideradas faixa etária entre 20 a 34 anos, da cidade de São Paulo.\n",
    "\n",
    "Margem de Erro: Entre 3% a 5%\n",
    "\n",
    "Nível de Confiança: 95%\n",
    "\n",
    "Proporção de variabilidade: 50% "
   ]
  },
  {
   "cell_type": "code",
   "execution_count": 30,
   "metadata": {},
   "outputs": [],
   "source": [
    "import pandas as pd\n",
    "import requests\n",
    "import io\n",
    "\n",
    "# URL com arquivo em XLSX, do IBGE\n",
    "url = \"https://sidra.ibge.gov.br/geratabela?format=xlsx&name=tabela9514.xlsx&terr=N&rank=-&query=t/9514/n1/all/n6/3550308/v/allxp/p/all/c2/6794/c287/6653,49108,49109,60040,60041,93070,93084,93085,93086,93087,93088,93089,93090,93091,93092,93093,93094,93095,93096,93097,93098,100362/c286/113635/l/v,p%2Bc2%2Bc287,t%2Bc286\"\n",
    "\n",
    "# Requisição\n",
    "response = requests.get(url)\n",
    "\n",
    "# Verificação de sucesso\n",
    "if response.status_code == 200:\n",
    "    # Ler arquivo\n",
    "    xlsx_content = response.content\n",
    "    # Criar DataFrame\n",
    "    df = pd.read_excel(io.BytesIO(xlsx_content), header=None)  # Ignorar o cabeçalho existente\n",
    "\n",
    "else:\n",
    "    print(\"Falha ao acessar o arquivo XLSX.\")\n"
   ]
  },
  {
   "cell_type": "code",
   "execution_count": 38,
   "metadata": {},
   "outputs": [
    {
     "name": "stdout",
     "output_type": "stream",
     "text": [
      "        Categoria Numero_Habitantes  % sobre total\n",
      "0  jovens_adultos           1733707          15.14\n",
      "1          outros           9718292          84.86\n",
      "2           Total          11451999         100.00\n"
     ]
    }
   ],
   "source": [
    "# Selecionar as linhas 4 e 6\n",
    "df_sp = df.iloc[[5, 7]]\n",
    "\n",
    "# Manter as duas primeiras colunas e transpor as demais\n",
    "df_sp = df_sp.T\n",
    "\n",
    "# renomeia colunas\n",
    "rotulo = ['Faixa Etaria', 'Numero_Habitantes']\n",
    "\n",
    "# filtra linhas\n",
    "df_sp = df_sp.iloc[3:]\n",
    "\n",
    "# aplica rótulos\n",
    "df_sp.columns = rotulo\n",
    "\n",
    "# função agrupa idade em categoria\n",
    "def categorizar_idade(value):\n",
    "    if value == '20 a 24 anos' or value == '30 a 34 anos':\n",
    "        return 'jovens_adultos'\n",
    "    else:\n",
    "        return 'outros'\n",
    "\n",
    "df_sp['Categoria'] = df_sp['Faixa Etaria'].apply(lambda x: categorizar_idade(x))\n",
    "\n",
    "# agrupa por categoria e numero de habitantes\n",
    "df_agrupado = df_sp.groupby('Categoria').agg({'Numero_Habitantes': 'sum'}).reset_index()\n",
    "\n",
    "# adiciona percentagem \n",
    "total_habitantes = df_agrupado['Numero_Habitantes'].sum()\n",
    "df_agrupado['% sobre total'] = ((df_agrupado['Numero_Habitantes'] / total_habitantes) * 100).apply(lambda x: round(x, 2))\n",
    "\n",
    "\n",
    "# Adicionar uma nova linha com o total de número de habitantes\n",
    "total_row = {'Categoria': 'Total', 'Numero_Habitantes': total_habitantes, '% sobre total': 100}\n",
    "df_agrupado = pd.concat([df_agrupado, pd.DataFrame(total_row, index=[len(df_agrupado)])], ignore_index=True)\n",
    "\n",
    "print(df_agrupado)\n",
    "\n"
   ]
  },
  {
   "cell_type": "markdown",
   "metadata": {},
   "source": [
    "Tamanho da amostra:\n",
    "\n",
    "População (N): 1,7 milhões de jovens adultos.\n",
    "\n",
    "Margem de Erro (E): 5%\n",
    "\n",
    "Nível de Confiança: 95% (Z= 1,96)\n",
    "\n",
    "Proporção (p): 50% \n",
    "Complemento da proporção (q): 50%"
   ]
  },
  {
   "cell_type": "code",
   "execution_count": 45,
   "metadata": {},
   "outputs": [
    {
     "name": "stdout",
     "output_type": "stream",
     "text": [
      "Parâmetros usados para definição do tamanho da amostra \n",
      "\n",
      "População: 1.733.707 jovens adultos\n",
      "Nível de Confiança: 95%\n",
      "Margem de Erro 5.0% \n",
      "\n",
      "Tamanho da Amostra: 385\n"
     ]
    }
   ],
   "source": [
    "import math\n",
    "import locale\n",
    "\n",
    "# define localidade para Brasil\n",
    "locale.setlocale(locale.LC_ALL, 'pt_BR.UTF-8')\n",
    "\n",
    "number_jovens_adultos = df_agrupado[df_agrupado['Categoria']=='jovens_adultos']['Numero_Habitantes'].iloc[0]\n",
    "\n",
    "N = int(number_jovens_adultos)      # população de jovens adultos\n",
    "Z = 1.96                            # nível de confiança\n",
    "E = 0.05                            # margem de erro de 5%\n",
    "p = 0.5                             # proporção\n",
    "q = 1 - p                           # complemento da proporção\n",
    "\n",
    "# tamanho da amostra\n",
    "n = (Z**2 * p * q) / (E**2)\n",
    "\n",
    "# arredondar para cima\n",
    "n = math.ceil(n)\n",
    "\n",
    "print('Parâmetros usados para definição do tamanho da amostra \\n')\n",
    "print(f'População: {locale.format_string(\"%d\", N, grouping=True)} jovens adultos')\n",
    "print(f'Nível de Confiança: 95%')\n",
    "print(f'Margem de Erro {E * 100}% \\n')\n",
    "print(f'Tamanho da Amostra: {n}')"
   ]
  },
  {
   "cell_type": "code",
   "execution_count": null,
   "metadata": {},
   "outputs": [],
   "source": []
  }
 ],
 "metadata": {
  "kernelspec": {
   "display_name": "base",
   "language": "python",
   "name": "python3"
  },
  "language_info": {
   "codemirror_mode": {
    "name": "ipython",
    "version": 3
   },
   "file_extension": ".py",
   "mimetype": "text/x-python",
   "name": "python",
   "nbconvert_exporter": "python",
   "pygments_lexer": "ipython3",
   "version": "3.9.13"
  },
  "orig_nbformat": 4
 },
 "nbformat": 4,
 "nbformat_minor": 2
}
